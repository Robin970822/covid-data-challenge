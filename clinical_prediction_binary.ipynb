{
 "cells": [
  {
   "cell_type": "markdown",
   "metadata": {},
   "source": [
    "# Data imputation\n",
    "[TOC]"
   ]
  },
  {
   "cell_type": "code",
   "execution_count": 1,
   "metadata": {},
   "outputs": [
    {
     "name": "stderr",
     "output_type": "stream",
     "text": [
      "Using TensorFlow backend.\n",
      "D:\\anaconda3\\lib\\site-packages\\tensorflow\\python\\framework\\dtypes.py:516: FutureWarning: Passing (type, 1) or '1type' as a synonym of type is deprecated; in a future version of numpy, it will be understood as (type, (1,)) / '(1,)type'.\n",
      "  _np_qint8 = np.dtype([(\"qint8\", np.int8, 1)])\n",
      "D:\\anaconda3\\lib\\site-packages\\tensorflow\\python\\framework\\dtypes.py:517: FutureWarning: Passing (type, 1) or '1type' as a synonym of type is deprecated; in a future version of numpy, it will be understood as (type, (1,)) / '(1,)type'.\n",
      "  _np_quint8 = np.dtype([(\"quint8\", np.uint8, 1)])\n",
      "D:\\anaconda3\\lib\\site-packages\\tensorflow\\python\\framework\\dtypes.py:518: FutureWarning: Passing (type, 1) or '1type' as a synonym of type is deprecated; in a future version of numpy, it will be understood as (type, (1,)) / '(1,)type'.\n",
      "  _np_qint16 = np.dtype([(\"qint16\", np.int16, 1)])\n",
      "D:\\anaconda3\\lib\\site-packages\\tensorflow\\python\\framework\\dtypes.py:519: FutureWarning: Passing (type, 1) or '1type' as a synonym of type is deprecated; in a future version of numpy, it will be understood as (type, (1,)) / '(1,)type'.\n",
      "  _np_quint16 = np.dtype([(\"quint16\", np.uint16, 1)])\n",
      "D:\\anaconda3\\lib\\site-packages\\tensorflow\\python\\framework\\dtypes.py:520: FutureWarning: Passing (type, 1) or '1type' as a synonym of type is deprecated; in a future version of numpy, it will be understood as (type, (1,)) / '(1,)type'.\n",
      "  _np_qint32 = np.dtype([(\"qint32\", np.int32, 1)])\n",
      "D:\\anaconda3\\lib\\site-packages\\tensorflow\\python\\framework\\dtypes.py:525: FutureWarning: Passing (type, 1) or '1type' as a synonym of type is deprecated; in a future version of numpy, it will be understood as (type, (1,)) / '(1,)type'.\n",
      "  np_resource = np.dtype([(\"resource\", np.ubyte, 1)])\n",
      "C:\\Users\\71774\\AppData\\Roaming\\Python\\Python37\\site-packages\\tensorboard\\compat\\tensorflow_stub\\dtypes.py:541: FutureWarning: Passing (type, 1) or '1type' as a synonym of type is deprecated; in a future version of numpy, it will be understood as (type, (1,)) / '(1,)type'.\n",
      "  _np_qint8 = np.dtype([(\"qint8\", np.int8, 1)])\n",
      "C:\\Users\\71774\\AppData\\Roaming\\Python\\Python37\\site-packages\\tensorboard\\compat\\tensorflow_stub\\dtypes.py:542: FutureWarning: Passing (type, 1) or '1type' as a synonym of type is deprecated; in a future version of numpy, it will be understood as (type, (1,)) / '(1,)type'.\n",
      "  _np_quint8 = np.dtype([(\"quint8\", np.uint8, 1)])\n",
      "C:\\Users\\71774\\AppData\\Roaming\\Python\\Python37\\site-packages\\tensorboard\\compat\\tensorflow_stub\\dtypes.py:543: FutureWarning: Passing (type, 1) or '1type' as a synonym of type is deprecated; in a future version of numpy, it will be understood as (type, (1,)) / '(1,)type'.\n",
      "  _np_qint16 = np.dtype([(\"qint16\", np.int16, 1)])\n",
      "C:\\Users\\71774\\AppData\\Roaming\\Python\\Python37\\site-packages\\tensorboard\\compat\\tensorflow_stub\\dtypes.py:544: FutureWarning: Passing (type, 1) or '1type' as a synonym of type is deprecated; in a future version of numpy, it will be understood as (type, (1,)) / '(1,)type'.\n",
      "  _np_quint16 = np.dtype([(\"quint16\", np.uint16, 1)])\n",
      "C:\\Users\\71774\\AppData\\Roaming\\Python\\Python37\\site-packages\\tensorboard\\compat\\tensorflow_stub\\dtypes.py:545: FutureWarning: Passing (type, 1) or '1type' as a synonym of type is deprecated; in a future version of numpy, it will be understood as (type, (1,)) / '(1,)type'.\n",
      "  _np_qint32 = np.dtype([(\"qint32\", np.int32, 1)])\n",
      "C:\\Users\\71774\\AppData\\Roaming\\Python\\Python37\\site-packages\\tensorboard\\compat\\tensorflow_stub\\dtypes.py:550: FutureWarning: Passing (type, 1) or '1type' as a synonym of type is deprecated; in a future version of numpy, it will be understood as (type, (1,)) / '(1,)type'.\n",
      "  np_resource = np.dtype([(\"resource\", np.ubyte, 1)])\n",
      "[MLENS] backend: threading\n"
     ]
    }
   ],
   "source": [
    "import os\n",
    "import pandas as pd\n",
    "import numpy as np\n",
    "import seaborn as sns\n",
    "from fancyimpute import KNN, NuclearNormMinimization, SoftImpute, IterativeImputer, BiScaler\n",
    "\n",
    "from sklearn.model_selection import train_test_split, cross_val_score, KFold\n",
    "from sklearn.metrics import accuracy_score, recall_score, confusion_matrix, roc_auc_score, roc_curve\n",
    "\n",
    "from sklearn.svm import SVC\n",
    "from sklearn.naive_bayes import GaussianNB\n",
    "from sklearn.linear_model import LogisticRegression\n",
    "from sklearn.neighbors import KNeighborsClassifier\n",
    "from sklearn.neural_network import MLPClassifier\n",
    "from sklearn.ensemble import RandomForestClassifier, GradientBoostingClassifier, AdaBoostClassifier\n",
    "from xgboost import XGBClassifier\n",
    "\n",
    "from mlens.visualization import pca_comp_plot\n",
    "from matplotlib import pyplot as plt\n",
    "\n",
    "from data import feature, get_severity, z_score_normalize, z_score_denormalize, fill_dataset\n",
    "\n",
    "seed = 0\n",
    "np.random.seed(seed)\n",
    "\n",
    "def get_models():\n",
    "    nb = GaussianNB()\n",
    "    svc = SVC(kernel='rbf', C=100, gamma=1e-3, probability=True, class_weight='balanced')\n",
    "    knn = KNeighborsClassifier(n_neighbors=8)\n",
    "    lr = LogisticRegression(C=100, random_state=seed)\n",
    "    nn = MLPClassifier((32, 64, 16), solver='lbfgs', activation='relu', random_state=seed)\n",
    "    gb = GradientBoostingClassifier(n_estimators=64, random_state=seed)\n",
    "    rf = RandomForestClassifier(n_estimators=64, max_features=2, random_state=seed)\n",
    "    ab = AdaBoostClassifier(n_estimators=64, random_state=seed)\n",
    "    xgb = XGBClassifier(random_state=seed)        \n",
    "    models = {'svm': svc, \n",
    "              'knn': knn, \n",
    "              'naive bayes': nb,\n",
    "              'mlp': nn,\n",
    "              'random forest': rf,\n",
    "              'gradient boost': gb,\n",
    "              'logistic': lr,\n",
    "              'adaboost': ab,\n",
    "              'xgboost': xgb, \n",
    "             }\n",
    "    return models\n",
    "\n",
    "def sensitivity_specificity(cm):\n",
    "    return cm[1, 1] / np.sum(cm[1]), cm[0, 0] / np.sum(cm[0])\n",
    "\n",
    "def train_predict(model_list):\n",
    "    P = np.zeros((y_test.shape[0], len(model_list)))\n",
    "    P = pd.DataFrame(P)\n",
    "    \n",
    "    print('Fitting models...')\n",
    "    cols = list()\n",
    "    for i, (name, m) in enumerate(model_list.items()):\n",
    "        print(\"%s...\" % name, end=\" \", flush=False)\n",
    "        try:\n",
    "            m.fit(x_train, y_train, sample_weight=get_sample_weight(y_train))\n",
    "        except:\n",
    "            print('no sample weight')\n",
    "            m.fit(x_train, y_train)\n",
    "        try:\n",
    "            print('\\n', name, m.feature_importances_)\n",
    "        except:\n",
    "            print('no feature importances')\n",
    "        P.iloc[:, i] = m.predict_proba(x_test)[:, 1]\n",
    "        cols.append(name)\n",
    "        print(\"done\")\n",
    "    \n",
    "    P.columns = cols\n",
    "    print(\"Done.\\n\")\n",
    "    return P\n",
    "\n",
    "def cross_val_models(model_list, cv=5, scoring='accuracy'):\n",
    "    P = np.zeros((cv, len(model_list)))\n",
    "    P = pd.DataFrame(P)\n",
    "\n",
    "    print('Fitting models...')\n",
    "    cols = list()\n",
    "    for i, (name, m) in enumerate(model_list.items()):\n",
    "        print(\"%s...\" % name, end=\" \", flush=False)\n",
    "        P.iloc[:, i] = cross_val_score(m, X, y, cv=cv, scoring=scoring)\n",
    "        cols.append(name)\n",
    "        print(\"done\")\n",
    "    P.columns = cols\n",
    "    print('Done.\\n')\n",
    "    return P\n",
    "\n",
    "def cross_val_acc(P, scoring='ACC'):\n",
    "    for m in P.columns:\n",
    "        score = np.mean(P.loc[:, m])\n",
    "        std = 2 * np.std(P.loc[:, m])\n",
    "        print('{} {} Result {} +/- {}'.format(m, scoring, score, std))\n",
    "\n",
    "def score_models(P, y):\n",
    "    print('ROC AUC SCORE')\n",
    "    for m in P.columns:\n",
    "        score = roc_auc_score(y, P.loc[:, m])\n",
    "        print(\"%-26s: %.3f\" % (m, score))\n",
    "    print('ACC SCORE')\n",
    "    for m in P.columns:\n",
    "        score = accuracy_score(y, np.float32(P.loc[:, m]>=0.5))\n",
    "        print(\"%-26s: %.3f\" % (m, score))\n",
    "\n",
    "def plot_roc_curve(y_test, P_base_learners, P_ensemble, labels, ens_label):\n",
    "    plt.plot([0, 1], [0, 1], 'k--')\n",
    "    #cm = [plt.cm.gray(i) for i in np.linspace(0, 1.0, P_base_learners.shape[1])]\n",
    "    cm = sns.color_palette(\"Blues\", P_base_learners.shape[1])\n",
    "    \n",
    "    for i in range(P_base_learners.shape[1]):\n",
    "        p = P_base_learners[:, i]\n",
    "        fpr, tpr, _ = roc_curve(y_test, p)\n",
    "        plt.plot(fpr, tpr, label=labels[i], c=cm[i])\n",
    "        \n",
    "    fpr, tpr, _ = roc_curve(y_test, P_ensemble)\n",
    "    plt.plot(fpr, tpr, label=ens_label, c='red')\n",
    "    \n",
    "    plt.xlabel('False positive rate')\n",
    "    plt.ylabel('True positive rate')\n",
    "    plt.title('ROC curve')\n",
    "    plt.legend()\n",
    "    plt.show()\n",
    "    \n",
    "def train_base_learners(base_learners, x_train, y_train):\n",
    "    print('Fitting models')\n",
    "    feature_importances = {}\n",
    "    for i, (name, m) in enumerate(base_learners.items()):\n",
    "        print('%s...'% name, end='', flush=False)\n",
    "        try:\n",
    "            m.fit(x_train, y_train, sample_weight=get_sample_weight(y_train))\n",
    "        except:\n",
    "            m.fit(x_train, y_train)\n",
    "            print('no sample_weight')\n",
    "        try:\n",
    "            feature_importances.update({name: m.feature_importances_})\n",
    "        except:\n",
    "            print('no feature importances')\n",
    "    print('done.')\n",
    "    return feature_importances\n",
    "\n",
    "def predict_base_learners(base_learners, x):\n",
    "    P = np.zeros((x.shape[0], len(base_learners)))\n",
    "    print('Generating base learner predictions.')\n",
    "    for i, (name, m) in enumerate(base_learners.items()):\n",
    "        print('%s...'% name, end='', flush=False)\n",
    "        p = m.predict_proba(x)\n",
    "        P[:, i] = p[:, 1]\n",
    "    print('done.')\n",
    "    return P\n",
    "\n",
    "def ensemble_predict(base_learners, meta_learner, x):\n",
    "    P_pred = predict_base_learners(base_learners, x)\n",
    "    return P_pred, meta_learner.predict_proba(P_pred)[:, 1]"
   ]
  },
  {
   "cell_type": "markdown",
   "metadata": {},
   "source": [
    "## Read data"
   ]
  },
  {
   "cell_type": "code",
   "execution_count": 2,
   "metadata": {},
   "outputs": [],
   "source": [
    "# method = 'knn_3'\n",
    "method = 'knn_5'\n",
    "# method = 'knn_6'\n",
    "# method = 'knn_9'\n",
    "# method = 'softimpute'"
   ]
  },
  {
   "cell_type": "code",
   "execution_count": 3,
   "metadata": {},
   "outputs": [],
   "source": [
    "train_data_path = './csv/filled_trainSet/filled_{}_trainSet_binary.txt'.format(method)\n",
    "test_data_path = './csv/filled_testSet/filled_{}_testSet_binary.txt'.format(method)"
   ]
  },
  {
   "cell_type": "code",
   "execution_count": 4,
   "metadata": {},
   "outputs": [],
   "source": [
    "train_dataset = pd.read_csv(train_data_path, sep=',')\n",
    "test_dataset = pd.read_csv(test_data_path, sep=',')\n",
    "\n",
    "y = np.array(train_dataset['severity'])"
   ]
  },
  {
   "cell_type": "markdown",
   "metadata": {},
   "source": [
    "## Clinical data prediction\n",
    "Select **imputation** method you want to verify here."
   ]
  },
  {
   "cell_type": "code",
   "execution_count": 5,
   "metadata": {},
   "outputs": [],
   "source": [
    "X = z_score_normalize(np.array(train_dataset[feature]))"
   ]
  },
  {
   "cell_type": "code",
   "execution_count": 6,
   "metadata": {},
   "outputs": [
    {
     "name": "stderr",
     "output_type": "stream",
     "text": [
      "D:\\anaconda3\\lib\\site-packages\\sklearn\\utils\\validation.py:70: FutureWarning: Pass kernel=linear as keyword args. From version 0.25 passing these as positional arguments will result in an error\n",
      "  FutureWarning)\n",
      "D:\\anaconda3\\lib\\site-packages\\sklearn\\utils\\validation.py:70: FutureWarning: Pass kernel=rbf as keyword args. From version 0.25 passing these as positional arguments will result in an error\n",
      "  FutureWarning)\n",
      "D:\\anaconda3\\lib\\site-packages\\sklearn\\utils\\validation.py:70: FutureWarning: Pass kernel=linear as keyword args. From version 0.25 passing these as positional arguments will result in an error\n",
      "  FutureWarning)\n",
      "D:\\anaconda3\\lib\\site-packages\\sklearn\\utils\\validation.py:70: FutureWarning: Pass kernel=rbf as keyword args. From version 0.25 passing these as positional arguments will result in an error\n",
      "  FutureWarning)\n"
     ]
    },
    {
     "data": {
      "image/png": "[encoded data removed]",
      "text/plain": [
       "<Figure size 720x576 with 4 Axes>"
      ]
     },
     "metadata": {
      "needs_background": "light"
     },
     "output_type": "display_data"
    },
    {
     "data": {
      "text/plain": [
       "[<AxesSubplot:title={'center':'linear kernel, 2 dims'}>,\n",
       " <AxesSubplot:title={'center':'rbf kernel, 2 dims'}>,\n",
       " <Axes3DSubplot:title={'center':'linear kernel, 3 dims'}>,\n",
       " <Axes3DSubplot:title={'center':'rbf kernel, 3 dims'}>]"
      ]
     },
     "execution_count": 6,
     "metadata": {},
     "output_type": "execute_result"
    }
   ],
   "source": [
    "pca_comp_plot(X, y)"
   ]
  },
  {
   "cell_type": "code",
   "execution_count": 7,
   "metadata": {},
   "outputs": [
    {
     "name": "stdout",
     "output_type": "stream",
     "text": [
      "样本集大小： (863, 16) (863,)\n",
      "训练集大小： (690, 16) (690,)\n",
      "测试集大小： (173, 16) (173,)\n"
     ]
    }
   ],
   "source": [
    "x_train, x_test, y_train, y_test = train_test_split(X, y, test_size=0.2, random_state=seed)\n",
    "print('样本集大小：',X.shape,y.shape)\n",
    "print('训练集大小：',x_train.shape,y_train.shape)  # 训练集样本大小\n",
    "print('测试集大小：',x_test.shape,y_test.shape)  # 测试集样本大小"
   ]
  },
  {
   "cell_type": "code",
   "execution_count": 8,
   "metadata": {},
   "outputs": [
    {
     "name": "stdout",
     "output_type": "stream",
     "text": [
      "Fitting models...\n",
      "svm... no sample weight\n",
      "no feature importances\n",
      "done\n",
      "knn... no sample weight\n",
      "no feature importances\n",
      "done\n",
      "naive bayes... no sample weight\n",
      "no feature importances\n",
      "done\n",
      "mlp... no sample weight\n",
      "no feature importances\n",
      "done\n",
      "random forest... no sample weight\n",
      "\n",
      " random forest [0.09332654 0.01101805 0.05586611 0.01340227 0.01812334 0.07443604\n",
      " 0.09675121 0.08168294 0.12286475 0.07474742 0.091313   0.08606617\n",
      " 0.11064311 0.05593225 0.0120009  0.00182589]\n",
      "done\n",
      "gradient boost... no sample weight\n",
      "\n",
      " gradient boost [1.06514007e-01 2.95101540e-04 1.47856712e-02 5.69229171e-03\n",
      " 3.65401476e-03 3.59740847e-02 7.29716180e-02 4.89545284e-02\n",
      " 3.19526809e-01 3.68021403e-02 1.40222247e-01 9.08200293e-02\n",
      " 9.58125390e-02 2.12413783e-02 6.73353944e-03 0.00000000e+00]\n",
      "done\n",
      "logistic... no sample weight\n",
      "no feature importances\n",
      "done\n",
      "adaboost... no sample weight\n",
      "\n",
      " adaboost [0.078125 0.       0.015625 0.       0.015625 0.0625   0.09375  0.046875\n",
      " 0.171875 0.09375  0.078125 0.078125 0.140625 0.125    0.       0.      ]\n",
      "done\n",
      "xgboost... no sample weight\n",
      "\n",
      " xgboost [0.07095817 0.05184395 0.04373836 0.03782165 0.06137474 0.05372849\n",
      " 0.05251427 0.05583927 0.17647249 0.0503839  0.0983382  0.06276456\n",
      " 0.06951123 0.05634701 0.05836366 0.        ]\n",
      "done\n",
      "Done.\n",
      "\n",
      "ROC AUC SCORE\n",
      "svm                       : 0.839\n",
      "knn                       : 0.748\n",
      "naive bayes               : 0.819\n",
      "mlp                       : 0.762\n",
      "random forest             : 0.799\n",
      "gradient boost            : 0.794\n",
      "logistic                  : 0.838\n",
      "adaboost                  : 0.747\n",
      "xgboost                   : 0.803\n",
      "ACC SCORE\n",
      "svm                       : 0.786\n",
      "knn                       : 0.671\n",
      "naive bayes               : 0.734\n",
      "mlp                       : 0.705\n",
      "random forest             : 0.699\n",
      "gradient boost            : 0.746\n",
      "logistic                  : 0.780\n",
      "adaboost                  : 0.694\n",
      "xgboost                   : 0.711\n"
     ]
    }
   ],
   "source": [
    "models = get_models()\n",
    "P = train_predict(models)\n",
    "score_models(P, y_test)"
   ]
  },
  {
   "cell_type": "code",
   "execution_count": 9,
   "metadata": {},
   "outputs": [
    {
     "name": "stdout",
     "output_type": "stream",
     "text": [
      "Fitting models...\n",
      "svm... done\n",
      "knn... done\n",
      "naive bayes... done\n",
      "mlp... done\n",
      "random forest... done\n",
      "gradient boost... done\n",
      "logistic... done\n",
      "adaboost... done\n",
      "xgboost... done\n",
      "Done.\n",
      "\n",
      "svm ACC Result 0.7392996370479903 +/- 0.03138255612748881\n",
      "knn ACC Result 0.6685979298292781 +/- 0.023503587429050322\n",
      "naive bayes ACC Result 0.7114733163059551 +/- 0.04472651477341199\n",
      "mlp ACC Result 0.6720123672536632 +/- 0.054638457241203274\n",
      "random forest ACC Result 0.7474257292646861 +/- 0.05108433853786662\n",
      "gradient boost ACC Result 0.740489313079715 +/- 0.03554542134288691\n",
      "logistic ACC Result 0.7393265223820407 +/- 0.05926419872471089\n",
      "adaboost ACC Result 0.731227315499395 +/- 0.07660771311035612\n",
      "xgboost ACC Result 0.7219922032531254 +/- 0.07302242576995657\n"
     ]
    }
   ],
   "source": [
    "models = get_models()\n",
    "cv_results=cross_val_models(models)\n",
    "cross_val_acc(cv_results)"
   ]
  },
  {
   "cell_type": "code",
   "execution_count": 10,
   "metadata": {},
   "outputs": [
    {
     "data": {
      "text/html": [
       "<div>\n",
       "<style scoped>\n",
       "    .dataframe tbody tr th:only-of-type {\n",
       "        vertical-align: middle;\n",
       "    }\n",
       "\n",
       "    .dataframe tbody tr th {\n",
       "        vertical-align: top;\n",
       "    }\n",
       "\n",
       "    .dataframe thead th {\n",
       "        text-align: right;\n",
       "    }\n",
       "</style>\n",
       "<table border=\"1\" class=\"dataframe\">\n",
       "  <thead>\n",
       "    <tr style=\"text-align: right;\">\n",
       "      <th></th>\n",
       "      <th>svm</th>\n",
       "      <th>knn</th>\n",
       "      <th>naive bayes</th>\n",
       "      <th>mlp</th>\n",
       "      <th>random forest</th>\n",
       "      <th>gradient boost</th>\n",
       "      <th>logistic</th>\n",
       "      <th>adaboost</th>\n",
       "      <th>xgboost</th>\n",
       "    </tr>\n",
       "  </thead>\n",
       "  <tbody>\n",
       "    <tr>\n",
       "      <th>0</th>\n",
       "      <td>0.739884</td>\n",
       "      <td>0.676301</td>\n",
       "      <td>0.710983</td>\n",
       "      <td>0.693642</td>\n",
       "      <td>0.745665</td>\n",
       "      <td>0.728324</td>\n",
       "      <td>0.705202</td>\n",
       "      <td>0.763006</td>\n",
       "      <td>0.687861</td>\n",
       "    </tr>\n",
       "    <tr>\n",
       "      <th>1</th>\n",
       "      <td>0.722543</td>\n",
       "      <td>0.682081</td>\n",
       "      <td>0.739884</td>\n",
       "      <td>0.710983</td>\n",
       "      <td>0.739884</td>\n",
       "      <td>0.728324</td>\n",
       "      <td>0.722543</td>\n",
       "      <td>0.682081</td>\n",
       "      <td>0.676301</td>\n",
       "    </tr>\n",
       "    <tr>\n",
       "      <th>2</th>\n",
       "      <td>0.739884</td>\n",
       "      <td>0.647399</td>\n",
       "      <td>0.682081</td>\n",
       "      <td>0.664740</td>\n",
       "      <td>0.728324</td>\n",
       "      <td>0.722543</td>\n",
       "      <td>0.751445</td>\n",
       "      <td>0.699422</td>\n",
       "      <td>0.722543</td>\n",
       "    </tr>\n",
       "    <tr>\n",
       "      <th>3</th>\n",
       "      <td>0.726744</td>\n",
       "      <td>0.668605</td>\n",
       "      <td>0.691860</td>\n",
       "      <td>0.656977</td>\n",
       "      <td>0.726744</td>\n",
       "      <td>0.755814</td>\n",
       "      <td>0.726744</td>\n",
       "      <td>0.726744</td>\n",
       "      <td>0.750000</td>\n",
       "    </tr>\n",
       "    <tr>\n",
       "      <th>4</th>\n",
       "      <td>0.767442</td>\n",
       "      <td>0.668605</td>\n",
       "      <td>0.732558</td>\n",
       "      <td>0.633721</td>\n",
       "      <td>0.796512</td>\n",
       "      <td>0.767442</td>\n",
       "      <td>0.790698</td>\n",
       "      <td>0.784884</td>\n",
       "      <td>0.773256</td>\n",
       "    </tr>\n",
       "  </tbody>\n",
       "</table>\n",
       "</div>"
      ],
      "text/plain": [
       "        svm       knn  naive bayes       mlp  random forest  gradient boost  \\\n",
       "0  0.739884  0.676301     0.710983  0.693642       0.745665        0.728324   \n",
       "1  0.722543  0.682081     0.739884  0.710983       0.739884        0.728324   \n",
       "2  0.739884  0.647399     0.682081  0.664740       0.728324        0.722543   \n",
       "3  0.726744  0.668605     0.691860  0.656977       0.726744        0.755814   \n",
       "4  0.767442  0.668605     0.732558  0.633721       0.796512        0.767442   \n",
       "\n",
       "   logistic  adaboost   xgboost  \n",
       "0  0.705202  0.763006  0.687861  \n",
       "1  0.722543  0.682081  0.676301  \n",
       "2  0.751445  0.699422  0.722543  \n",
       "3  0.726744  0.726744  0.750000  \n",
       "4  0.790698  0.784884  0.773256  "
      ]
     },
     "execution_count": 10,
     "metadata": {},
     "output_type": "execute_result"
    }
   ],
   "source": [
    "cv_results"
   ]
  },
  {
   "cell_type": "code",
   "execution_count": 11,
   "metadata": {},
   "outputs": [
    {
     "name": "stdout",
     "output_type": "stream",
     "text": [
      "Fitting models...\n",
      "svm... done\n",
      "knn... done\n",
      "naive bayes... done\n",
      "mlp... done\n",
      "random forest... done\n",
      "gradient boost... done\n",
      "logistic... done\n",
      "adaboost... done\n",
      "xgboost... done\n",
      "Done.\n",
      "\n",
      "svm ROC AUC Result 0.8166426946954332 +/- 0.03873873257780443\n",
      "knn ROC AUC Result 0.7516574466777307 +/- 0.05502105745617962\n",
      "naive bayes ROC AUC Result 0.8088078554305735 +/- 0.04392656573176395\n",
      "mlp ROC AUC Result 0.730844089987092 +/- 0.06535909269640058\n",
      "random forest ROC AUC Result 0.8265515704714488 +/- 0.03144258499567632\n",
      "gradient boost ROC AUC Result 0.8125579322638148 +/- 0.03559978573216657\n",
      "logistic ROC AUC Result 0.8228007253057964 +/- 0.04793729283380164\n",
      "adaboost ROC AUC Result 0.7966064294056181 +/- 0.0714047357872913\n",
      "xgboost ROC AUC Result 0.7935672137193436 +/- 0.042146802294986824\n"
     ]
    }
   ],
   "source": [
    "cv_results_roc=cross_val_models(models, scoring='roc_auc')\n",
    "cross_val_acc(cv_results_roc, scoring='ROC AUC')"
   ]
  },
  {
   "cell_type": "code",
   "execution_count": 12,
   "metadata": {},
   "outputs": [
    {
     "name": "stdout",
     "output_type": "stream",
     "text": [
      "Voting ROC-AUC score: 0.844\n",
      "Voting ACC score: 0.803\n"
     ]
    }
   ],
   "source": [
    "print(\"Voting ROC-AUC score: %.3f\" % roc_auc_score(y_test, P.mean(axis=1)))\n",
    "print(\"Voting ACC score: %.3f\" % accuracy_score(y_test, np.float32(P.mean(axis=1) > 0.5)))"
   ]
  },
  {
   "cell_type": "code",
   "execution_count": 13,
   "metadata": {},
   "outputs": [
    {
     "data": {
      "image/png": "[encoded data removed]",
      "text/plain": [
       "<Figure size 432x288 with 1 Axes>"
      ]
     },
     "metadata": {
      "needs_background": "light"
     },
     "output_type": "display_data"
    }
   ],
   "source": [
    "plot_roc_curve(y_test, P.values, P.mean(axis=1), list(P.columns), 'voting')"
   ]
  },
  {
   "cell_type": "code",
   "execution_count": 14,
   "metadata": {},
   "outputs": [],
   "source": [
    "base_learners = get_models()"
   ]
  },
  {
   "cell_type": "code",
   "execution_count": 15,
   "metadata": {},
   "outputs": [],
   "source": [
    "meta_learner = GradientBoostingClassifier(\n",
    "   n_estimators=128,\n",
    "   loss=\"exponential\",\n",
    "   max_features=4,\n",
    "   max_depth=3,\n",
    "   subsample=0.5,\n",
    "   learning_rate=0.005, \n",
    "   random_state=seed\n",
    ")"
   ]
  },
  {
   "cell_type": "code",
   "execution_count": 16,
   "metadata": {},
   "outputs": [
    {
     "name": "stdout",
     "output_type": "stream",
     "text": [
      "Fitting models\n",
      "svm...no sample_weight\n",
      "no feature importances\n",
      "knn...no sample_weight\n",
      "no feature importances\n",
      "naive bayes...no sample_weight\n",
      "no feature importances\n",
      "mlp...no sample_weight\n",
      "no feature importances\n",
      "random forest...no sample_weight\n",
      "gradient boost...no sample_weight\n",
      "logistic...no sample_weight\n",
      "no feature importances\n",
      "adaboost...no sample_weight\n",
      "xgboost...no sample_weight\n",
      "done.\n"
     ]
    },
    {
     "data": {
      "text/plain": [
       "{'random forest': array([0.09332654, 0.01101805, 0.05586611, 0.01340227, 0.01812334,\n",
       "        0.07443604, 0.09675121, 0.08168294, 0.12286475, 0.07474742,\n",
       "        0.091313  , 0.08606617, 0.11064311, 0.05593225, 0.0120009 ,\n",
       "        0.00182589]),\n",
       " 'gradient boost': array([1.06514007e-01, 2.95101540e-04, 1.47856712e-02, 5.69229171e-03,\n",
       "        3.65401476e-03, 3.59740847e-02, 7.29716180e-02, 4.89545284e-02,\n",
       "        3.19526809e-01, 3.68021403e-02, 1.40222247e-01, 9.08200293e-02,\n",
       "        9.58125390e-02, 2.12413783e-02, 6.73353944e-03, 0.00000000e+00]),\n",
       " 'adaboost': array([0.078125, 0.      , 0.015625, 0.      , 0.015625, 0.0625  ,\n",
       "        0.09375 , 0.046875, 0.171875, 0.09375 , 0.078125, 0.078125,\n",
       "        0.140625, 0.125   , 0.      , 0.      ]),\n",
       " 'xgboost': array([0.07095817, 0.05184395, 0.04373836, 0.03782165, 0.06137474,\n",
       "        0.05372849, 0.05251427, 0.05583927, 0.17647249, 0.0503839 ,\n",
       "        0.0983382 , 0.06276456, 0.06951123, 0.05634701, 0.05836366,\n",
       "        0.        ], dtype=float32)}"
      ]
     },
     "execution_count": 16,
     "metadata": {},
     "output_type": "execute_result"
    }
   ],
   "source": [
    "train_base_learners(base_learners, x_train, y_train)"
   ]
  },
  {
   "cell_type": "code",
   "execution_count": 17,
   "metadata": {},
   "outputs": [
    {
     "name": "stdout",
     "output_type": "stream",
     "text": [
      "Generating base learner predictions.\n",
      "svm...knn...naive bayes...mlp...random forest...gradient boost...logistic...adaboost...xgboost...done.\n",
      "Generating base learner predictions.\n",
      "svm...knn...naive bayes...mlp...random forest...gradient boost...logistic...adaboost...xgboost...done.\n"
     ]
    }
   ],
   "source": [
    "P_base = predict_base_learners(base_learners, x_train)\n",
    "P_test = predict_base_learners(base_learners, x_test)"
   ]
  },
  {
   "cell_type": "code",
   "execution_count": 18,
   "metadata": {},
   "outputs": [
    {
     "data": {
      "text/plain": [
       "GradientBoostingClassifier(learning_rate=0.005, loss='exponential',\n",
       "                           max_features=4, n_estimators=128, random_state=0,\n",
       "                           subsample=0.5)"
      ]
     },
     "execution_count": 18,
     "metadata": {},
     "output_type": "execute_result"
    }
   ],
   "source": [
    "meta_learner.fit(P_base, y_train)"
   ]
  },
  {
   "cell_type": "code",
   "execution_count": 19,
   "metadata": {},
   "outputs": [
    {
     "name": "stdout",
     "output_type": "stream",
     "text": [
      "Generating base learner predictions.\n",
      "svm...knn...naive bayes...mlp...random forest...gradient boost...logistic...adaboost...xgboost...done.\n",
      "\n",
      "Stacking ROC-AUC score: 0.781\n",
      "Stacking ACC score: 0.746\n"
     ]
    }
   ],
   "source": [
    "P_pred, p = ensemble_predict(base_learners, meta_learner, x_test)\n",
    "print(\"\\nStacking ROC-AUC score: %.3f\" % roc_auc_score(y_test, p))\n",
    "print(\"Stacking ACC score: %.3f\" % accuracy_score(y_test, np.float32(p > 0.5)))"
   ]
  },
  {
   "cell_type": "code",
   "execution_count": 20,
   "metadata": {},
   "outputs": [
    {
     "name": "stdout",
     "output_type": "stream",
     "text": [
      "svm ROC-AUC score: 0.839\n",
      "svm ACC score: 0.780 \n",
      "\n",
      "knn ROC-AUC score: 0.748\n",
      "knn ACC score: 0.699 \n",
      "\n",
      "naive bayes ROC-AUC score: 0.819\n",
      "naive bayes ACC score: 0.734 \n",
      "\n",
      "mlp ROC-AUC score: 0.762\n",
      "mlp ACC score: 0.705 \n",
      "\n",
      "random forest ROC-AUC score: 0.799\n",
      "random forest ACC score: 0.705 \n",
      "\n",
      "gradient boost ROC-AUC score: 0.794\n",
      "gradient boost ACC score: 0.746 \n",
      "\n",
      "logistic ROC-AUC score: 0.838\n",
      "logistic ACC score: 0.780 \n",
      "\n",
      "adaboost ROC-AUC score: 0.747\n",
      "adaboost ACC score: 0.694 \n",
      "\n",
      "xgboost ROC-AUC score: 0.803\n",
      "xgboost ACC score: 0.711 \n",
      "\n"
     ]
    }
   ],
   "source": [
    "c = 0\n",
    "for k, v in base_learners.items():\n",
    "    print(\"{} ROC-AUC score: %.3f\".format(k) % roc_auc_score(y_test, P_pred[:, c]))\n",
    "    print(\"{} ACC score: %.3f \\n\".format(k) % accuracy_score(y_test, np.float32(P_pred[:, c] > 0.5)))\n",
    "    c = c + 1"
   ]
  },
  {
   "cell_type": "code",
   "execution_count": 21,
   "metadata": {},
   "outputs": [],
   "source": [
    "index = train_dataset[feature].index"
   ]
  },
  {
   "cell_type": "markdown",
   "metadata": {},
   "source": [
    "## 5-fold validation"
   ]
  },
  {
   "cell_type": "code",
   "execution_count": 22,
   "metadata": {},
   "outputs": [
    {
     "name": "stdout",
     "output_type": "stream",
     "text": [
      "Fitting models\n",
      "svm...no sample_weight\n",
      "no feature importances\n",
      "knn...no sample_weight\n",
      "no feature importances\n",
      "naive bayes...no sample_weight\n",
      "no feature importances\n",
      "mlp...no sample_weight\n",
      "no feature importances\n",
      "random forest...no sample_weight\n",
      "gradient boost...no sample_weight\n",
      "logistic...no sample_weight\n",
      "no feature importances\n",
      "adaboost...no sample_weight\n",
      "xgboost...no sample_weight\n",
      "done.\n",
      "Generating base learner predictions.\n",
      "svm...knn...naive bayes...mlp...random forest...gradient boost...logistic...adaboost...xgboost...done.\n",
      "\n",
      "Ensemble ROC-AUC score: 0.846\n",
      "Ensemble ACC score: 0.792\n",
      "Fitting models\n",
      "svm...no sample_weight\n",
      "no feature importances\n",
      "knn...no sample_weight\n",
      "no feature importances\n",
      "naive bayes...no sample_weight\n",
      "no feature importances\n",
      "mlp...no sample_weight\n",
      "no feature importances\n",
      "random forest...no sample_weight\n",
      "gradient boost...no sample_weight\n",
      "logistic...no sample_weight\n",
      "no feature importances\n",
      "adaboost...no sample_weight\n",
      "xgboost...no sample_weight\n",
      "done.\n",
      "Generating base learner predictions.\n",
      "svm...knn...naive bayes...mlp...random forest...gradient boost...logistic...adaboost...xgboost...done.\n",
      "\n",
      "Ensemble ROC-AUC score: 0.869\n",
      "Ensemble ACC score: 0.798\n",
      "Fitting models\n",
      "svm...no sample_weight\n",
      "no feature importances\n",
      "knn...no sample_weight\n",
      "no feature importances\n",
      "naive bayes...no sample_weight\n",
      "no feature importances\n",
      "mlp...no sample_weight\n",
      "no feature importances\n",
      "random forest...no sample_weight\n",
      "gradient boost...no sample_weight\n",
      "logistic...no sample_weight\n",
      "no feature importances\n",
      "adaboost...no sample_weight\n",
      "xgboost...no sample_weight\n",
      "done.\n",
      "Generating base learner predictions.\n",
      "svm...knn...naive bayes...mlp...random forest...gradient boost...logistic...adaboost...xgboost...done.\n",
      "\n",
      "Ensemble ROC-AUC score: 0.828\n",
      "Ensemble ACC score: 0.763\n",
      "Fitting models\n",
      "svm...no sample_weight\n",
      "no feature importances\n",
      "knn...no sample_weight\n",
      "no feature importances\n",
      "naive bayes...no sample_weight\n",
      "no feature importances\n",
      "mlp...no sample_weight\n",
      "no feature importances\n",
      "random forest...no sample_weight\n",
      "gradient boost...no sample_weight\n",
      "logistic...no sample_weight\n",
      "no feature importances\n",
      "adaboost...no sample_weight\n",
      "xgboost...no sample_weight\n",
      "done.\n",
      "Generating base learner predictions.\n",
      "svm...knn...naive bayes...mlp...random forest...gradient boost...logistic...adaboost...xgboost...done.\n",
      "\n",
      "Ensemble ROC-AUC score: 0.834\n",
      "Ensemble ACC score: 0.756\n",
      "Fitting models\n",
      "svm...no sample_weight\n",
      "no feature importances\n",
      "knn...no sample_weight\n",
      "no feature importances\n",
      "naive bayes...no sample_weight\n",
      "no feature importances\n",
      "mlp...no sample_weight\n",
      "no feature importances\n",
      "random forest...no sample_weight\n",
      "gradient boost...no sample_weight\n",
      "logistic...no sample_weight\n",
      "no feature importances\n",
      "adaboost...no sample_weight\n",
      "xgboost...no sample_weight\n",
      "done.\n",
      "Generating base learner predictions.\n",
      "svm...knn...naive bayes...mlp...random forest...gradient boost...logistic...adaboost...xgboost...done.\n",
      "\n",
      "Ensemble ROC-AUC score: 0.785\n",
      "Ensemble ACC score: 0.727\n"
     ]
    }
   ],
   "source": [
    "idx = list(index)\n",
    "np.random.shuffle(idx)\n",
    "X_ = X[idx]\n",
    "y_ = y[idx]\n",
    "cls_data_voting = train_dataset.copy().reset_index(drop=True)\n",
    "cls_data_voting = cls_data_voting.iloc[idx]\n",
    "cls_data_voting = cls_data_voting.reset_index(drop=True)\n",
    "cv_scores_vote = []\n",
    "feature_importances_list = []\n",
    "prob = pd.DataFrame(columns=base_learners.keys(), dtype='float32')\n",
    "for i, (train_idx, test_idx) in enumerate(KFold(5).split(X_)):\n",
    "    fold_x_train, fold_y_train = X_[train_idx, :], y_[train_idx]\n",
    "    fold_x_test, fold_y_test = X_[test_idx, :], y_[test_idx]\n",
    "    \n",
    "    base_learners = get_models()\n",
    "\n",
    "    feature_importances = train_base_learners(base_learners, fold_x_train, fold_y_train)\n",
    "    P_test = predict_base_learners(base_learners, fold_x_test)\n",
    "    for i, model_name in zip(range(len(base_learners.keys())), base_learners.keys()):\n",
    "        cls_data_voting.loc[test_idx, model_name] = P_test[:, i]\n",
    "    \n",
    "    p_vote = P_test.mean(axis=1)\n",
    "    fold_y_pred = np.float32(p_vote > 0.5)\n",
    "    \n",
    "    acc = accuracy_score(fold_y_test, fold_y_pred)\n",
    "    recall = recall_score(fold_y_test, fold_y_pred)\n",
    "    cm = confusion_matrix(fold_y_test, fold_y_pred)\n",
    "    roc = roc_auc_score(fold_y_test, p_vote)\n",
    "    \n",
    "    cls_data_voting.loc[test_idx, 'pred'] = fold_y_pred\n",
    "    cls_data_voting.loc[test_idx, 'prob'] = p_vote\n",
    "    prob = pd.concat([prob, pd.DataFrame(P_test, columns=base_learners.keys())])\n",
    "\n",
    "    print(\"\\nEnsemble ROC-AUC score: %.3f\" % roc)\n",
    "    print(\"Ensemble ACC score: %.3f\" % acc)\n",
    "    \n",
    "    cv_scores_vote.append({'acc': acc, 'recall': recall, 'confusion_matrix': cm, 'roc_auc_score': roc})\n",
    "    feature_importances_list.append(feature_importances)"
   ]
  },
  {
   "cell_type": "code",
   "execution_count": 23,
   "metadata": {},
   "outputs": [],
   "source": [
    "feature_stacking = pd.DataFrame(pd.DataFrame(feature_importances_list).sum().to_dict(), index=feature)\n",
    "feature_stacking['sum'] = feature_stacking.sum(axis=1)\n",
    "feature_stacking = feature_stacking.sort_values(by='sum')"
   ]
  },
  {
   "cell_type": "code",
   "execution_count": 24,
   "metadata": {},
   "outputs": [],
   "source": [
    "feature_stacking.to_csv('csv/feature_importance/filled_{}_binary.csv'.format(method))"
   ]
  },
  {
   "cell_type": "code",
   "execution_count": 25,
   "metadata": {},
   "outputs": [
    {
     "data": {
      "text/html": [
       "<div>\n",
       "<style scoped>\n",
       "    .dataframe tbody tr th:only-of-type {\n",
       "        vertical-align: middle;\n",
       "    }\n",
       "\n",
       "    .dataframe tbody tr th {\n",
       "        vertical-align: top;\n",
       "    }\n",
       "\n",
       "    .dataframe thead th {\n",
       "        text-align: right;\n",
       "    }\n",
       "</style>\n",
       "<table border=\"1\" class=\"dataframe\">\n",
       "  <thead>\n",
       "    <tr style=\"text-align: right;\">\n",
       "      <th></th>\n",
       "      <th>acc</th>\n",
       "      <th>recall</th>\n",
       "      <th>confusion_matrix</th>\n",
       "      <th>roc_auc_score</th>\n",
       "    </tr>\n",
       "  </thead>\n",
       "  <tbody>\n",
       "    <tr>\n",
       "      <th>0</th>\n",
       "      <td>0.791908</td>\n",
       "      <td>0.780488</td>\n",
       "      <td>[[73, 18], [18, 64]]</td>\n",
       "      <td>0.846020</td>\n",
       "    </tr>\n",
       "    <tr>\n",
       "      <th>1</th>\n",
       "      <td>0.797688</td>\n",
       "      <td>0.753247</td>\n",
       "      <td>[[80, 16], [19, 58]]</td>\n",
       "      <td>0.868777</td>\n",
       "    </tr>\n",
       "    <tr>\n",
       "      <th>2</th>\n",
       "      <td>0.763006</td>\n",
       "      <td>0.688172</td>\n",
       "      <td>[[68, 12], [29, 64]]</td>\n",
       "      <td>0.827823</td>\n",
       "    </tr>\n",
       "    <tr>\n",
       "      <th>3</th>\n",
       "      <td>0.755814</td>\n",
       "      <td>0.703297</td>\n",
       "      <td>[[66, 15], [27, 64]]</td>\n",
       "      <td>0.833673</td>\n",
       "    </tr>\n",
       "    <tr>\n",
       "      <th>4</th>\n",
       "      <td>0.726744</td>\n",
       "      <td>0.634146</td>\n",
       "      <td>[[73, 17], [30, 52]]</td>\n",
       "      <td>0.785230</td>\n",
       "    </tr>\n",
       "  </tbody>\n",
       "</table>\n",
       "</div>"
      ],
      "text/plain": [
       "        acc    recall      confusion_matrix  roc_auc_score\n",
       "0  0.791908  0.780488  [[73, 18], [18, 64]]       0.846020\n",
       "1  0.797688  0.753247  [[80, 16], [19, 58]]       0.868777\n",
       "2  0.763006  0.688172  [[68, 12], [29, 64]]       0.827823\n",
       "3  0.755814  0.703297  [[66, 15], [27, 64]]       0.833673\n",
       "4  0.726744  0.634146  [[73, 17], [30, 52]]       0.785230"
      ]
     },
     "execution_count": 25,
     "metadata": {},
     "output_type": "execute_result"
    }
   ],
   "source": [
    "pd.DataFrame(cv_scores_vote)"
   ]
  },
  {
   "cell_type": "code",
   "execution_count": 26,
   "metadata": {},
   "outputs": [
    {
     "data": {
      "text/plain": [
       "array([[360,  78],\n",
       "       [123, 302]], dtype=int64)"
      ]
     },
     "execution_count": 26,
     "metadata": {},
     "output_type": "execute_result"
    }
   ],
   "source": [
    "np.sum(pd.DataFrame(cv_scores_vote)['confusion_matrix'])"
   ]
  },
  {
   "cell_type": "code",
   "execution_count": 27,
   "metadata": {},
   "outputs": [
    {
     "data": {
      "text/plain": [
       "Text(33.0, 0.5, 'True labels')"
      ]
     },
     "execution_count": 27,
     "metadata": {},
     "output_type": "execute_result"
    },
    {
     "data": {
      "image/png": "[encoded data removed]",
      "text/plain": [
       "<Figure size 432x288 with 2 Axes>"
      ]
     },
     "metadata": {
      "needs_background": "light"
     },
     "output_type": "display_data"
    }
   ],
   "source": [
    "cm = np.sum(pd.DataFrame(cv_scores_vote)['confusion_matrix'])\n",
    "cm_norm = cm.astype('float') / cm.sum(axis=1)[:, np.newaxis]\n",
    "sns.heatmap(cm_norm, cmap='Blues', annot=True)\n",
    "plt.xlabel('Predicted labels')\n",
    "plt.ylabel('True labels')"
   ]
  },
  {
   "cell_type": "code",
   "execution_count": 28,
   "metadata": {},
   "outputs": [
    {
     "data": {
      "text/html": [
       "<div>\n",
       "<style scoped>\n",
       "    .dataframe tbody tr th:only-of-type {\n",
       "        vertical-align: middle;\n",
       "    }\n",
       "\n",
       "    .dataframe tbody tr th {\n",
       "        vertical-align: top;\n",
       "    }\n",
       "\n",
       "    .dataframe thead th {\n",
       "        text-align: right;\n",
       "    }\n",
       "</style>\n",
       "<table border=\"1\" class=\"dataframe\">\n",
       "  <thead>\n",
       "    <tr style=\"text-align: right;\">\n",
       "      <th></th>\n",
       "      <th>svm</th>\n",
       "      <th>knn</th>\n",
       "      <th>naive bayes</th>\n",
       "      <th>mlp</th>\n",
       "      <th>random forest</th>\n",
       "      <th>gradient boost</th>\n",
       "      <th>logistic</th>\n",
       "      <th>adaboost</th>\n",
       "      <th>xgboost</th>\n",
       "      <th>voting</th>\n",
       "    </tr>\n",
       "  </thead>\n",
       "  <tbody>\n",
       "    <tr>\n",
       "      <th>0</th>\n",
       "      <td>0.739884</td>\n",
       "      <td>0.676301</td>\n",
       "      <td>0.710983</td>\n",
       "      <td>0.693642</td>\n",
       "      <td>0.745665</td>\n",
       "      <td>0.728324</td>\n",
       "      <td>0.705202</td>\n",
       "      <td>0.763006</td>\n",
       "      <td>0.687861</td>\n",
       "      <td>0.791908</td>\n",
       "    </tr>\n",
       "    <tr>\n",
       "      <th>1</th>\n",
       "      <td>0.722543</td>\n",
       "      <td>0.682081</td>\n",
       "      <td>0.739884</td>\n",
       "      <td>0.710983</td>\n",
       "      <td>0.739884</td>\n",
       "      <td>0.728324</td>\n",
       "      <td>0.722543</td>\n",
       "      <td>0.682081</td>\n",
       "      <td>0.676301</td>\n",
       "      <td>0.797688</td>\n",
       "    </tr>\n",
       "    <tr>\n",
       "      <th>2</th>\n",
       "      <td>0.739884</td>\n",
       "      <td>0.647399</td>\n",
       "      <td>0.682081</td>\n",
       "      <td>0.664740</td>\n",
       "      <td>0.728324</td>\n",
       "      <td>0.722543</td>\n",
       "      <td>0.751445</td>\n",
       "      <td>0.699422</td>\n",
       "      <td>0.722543</td>\n",
       "      <td>0.763006</td>\n",
       "    </tr>\n",
       "    <tr>\n",
       "      <th>3</th>\n",
       "      <td>0.726744</td>\n",
       "      <td>0.668605</td>\n",
       "      <td>0.691860</td>\n",
       "      <td>0.656977</td>\n",
       "      <td>0.726744</td>\n",
       "      <td>0.755814</td>\n",
       "      <td>0.726744</td>\n",
       "      <td>0.726744</td>\n",
       "      <td>0.750000</td>\n",
       "      <td>0.755814</td>\n",
       "    </tr>\n",
       "    <tr>\n",
       "      <th>4</th>\n",
       "      <td>0.767442</td>\n",
       "      <td>0.668605</td>\n",
       "      <td>0.732558</td>\n",
       "      <td>0.633721</td>\n",
       "      <td>0.796512</td>\n",
       "      <td>0.767442</td>\n",
       "      <td>0.790698</td>\n",
       "      <td>0.784884</td>\n",
       "      <td>0.773256</td>\n",
       "      <td>0.726744</td>\n",
       "    </tr>\n",
       "  </tbody>\n",
       "</table>\n",
       "</div>"
      ],
      "text/plain": [
       "        svm       knn  naive bayes       mlp  random forest  gradient boost  \\\n",
       "0  0.739884  0.676301     0.710983  0.693642       0.745665        0.728324   \n",
       "1  0.722543  0.682081     0.739884  0.710983       0.739884        0.728324   \n",
       "2  0.739884  0.647399     0.682081  0.664740       0.728324        0.722543   \n",
       "3  0.726744  0.668605     0.691860  0.656977       0.726744        0.755814   \n",
       "4  0.767442  0.668605     0.732558  0.633721       0.796512        0.767442   \n",
       "\n",
       "   logistic  adaboost   xgboost    voting  \n",
       "0  0.705202  0.763006  0.687861  0.791908  \n",
       "1  0.722543  0.682081  0.676301  0.797688  \n",
       "2  0.751445  0.699422  0.722543  0.763006  \n",
       "3  0.726744  0.726744  0.750000  0.755814  \n",
       "4  0.790698  0.784884  0.773256  0.726744  "
      ]
     },
     "execution_count": 28,
     "metadata": {},
     "output_type": "execute_result"
    }
   ],
   "source": [
    "cv_results['voting'] = pd.DataFrame(cv_scores_vote)['acc']\n",
    "cv_results"
   ]
  },
  {
   "cell_type": "code",
   "execution_count": 29,
   "metadata": {},
   "outputs": [
    {
     "data": {
      "image/png": "[encoded data removed]",
      "text/plain": [
       "<Figure size 432x288 with 1 Axes>"
      ]
     },
     "metadata": {
      "needs_background": "light"
     },
     "output_type": "display_data"
    }
   ],
   "source": [
    "fpr, tpr, _ = roc_curve(cls_data_voting['severity'], cls_data_voting['prob'])\n",
    "plt.plot([0, 1], [0, 1], 'k--')\n",
    "plt.plot(fpr, tpr, label='Voting', c='black')\n",
    "plt.xlabel('False positive rate')\n",
    "plt.ylabel('True positive rate')\n",
    "plt.title('ROC curve')\n",
    "#plt.legend()\n",
    "plt.tick_params(labelsize=16)\n",
    "plt.tight_layout()\n",
    "\n",
    "plt.savefig('fig/filled_{}_binary.png'.format(method), format='png')"
   ]
  },
  {
   "cell_type": "code",
   "execution_count": 30,
   "metadata": {},
   "outputs": [],
   "source": [
    "thres = 0.50"
   ]
  },
  {
   "cell_type": "code",
   "execution_count": 31,
   "metadata": {},
   "outputs": [
    {
     "name": "stdout",
     "output_type": "stream",
     "text": [
      "roc auc score: \t0.8318345420359924\n",
      "accuarcy: \t0.7670915411355735\n",
      "recall: \t0.7105882352941176\n",
      "sensitivity: \t0.7105882352941176\n",
      "specificity: \t0.821917808219178\n",
      "confusion matrix: \n",
      "[[360  78]\n",
      " [123 302]]\n"
     ]
    }
   ],
   "source": [
    "acc = accuracy_score(cls_data_voting['severity'], cls_data_voting['prob'] > thres)\n",
    "recall = recall_score(cls_data_voting['severity'], cls_data_voting['prob'] > thres)\n",
    "cm = confusion_matrix(cls_data_voting['severity'], cls_data_voting['prob'] > thres)\n",
    "roc = roc_auc_score(cls_data_voting['severity'], cls_data_voting['prob'])\n",
    "sensitivity, specificity = sensitivity_specificity(cm)\n",
    "\n",
    "print('roc auc score: \\t{}'.format(roc))\n",
    "print('accuarcy: \\t{}'.format(acc))\n",
    "print('recall: \\t{}'.format(recall))\n",
    "print('sensitivity: \\t{}'.format(sensitivity))\n",
    "print('specificity: \\t{}'.format(specificity))\n",
    "print('confusion matrix: \\n{}'.format(cm))"
   ]
  },
  {
   "cell_type": "code",
   "execution_count": 32,
   "metadata": {},
   "outputs": [
    {
     "name": "stderr",
     "output_type": "stream",
     "text": [
      "C:\\Users\\71774\\AppData\\Roaming\\Python\\Python37\\site-packages\\pandas\\core\\internals\\blocks.py:902: VisibleDeprecationWarning: Creating an ndarray from ragged nested sequences (which is a list-or-tuple of lists-or-tuples-or ndarrays with different lengths or shapes) is deprecated. If you meant to do this, you must specify 'dtype=object' when creating the ndarray.\n",
      "  arr_value = np.array(value)\n",
      "C:\\Users\\71774\\AppData\\Roaming\\Python\\Python37\\site-packages\\pandas\\core\\internals\\blocks.py:902: VisibleDeprecationWarning: Creating an ndarray from ragged nested sequences (which is a list-or-tuple of lists-or-tuples-or ndarrays with different lengths or shapes) is deprecated. If you meant to do this, you must specify 'dtype=object' when creating the ndarray.\n",
      "  arr_value = np.array(value)\n",
      "C:\\Users\\71774\\AppData\\Roaming\\Python\\Python37\\site-packages\\pandas\\core\\internals\\blocks.py:902: VisibleDeprecationWarning: Creating an ndarray from ragged nested sequences (which is a list-or-tuple of lists-or-tuples-or ndarrays with different lengths or shapes) is deprecated. If you meant to do this, you must specify 'dtype=object' when creating the ndarray.\n",
      "  arr_value = np.array(value)\n",
      "C:\\Users\\71774\\AppData\\Roaming\\Python\\Python37\\site-packages\\pandas\\core\\internals\\blocks.py:902: VisibleDeprecationWarning: Creating an ndarray from ragged nested sequences (which is a list-or-tuple of lists-or-tuples-or ndarrays with different lengths or shapes) is deprecated. If you meant to do this, you must specify 'dtype=object' when creating the ndarray.\n",
      "  arr_value = np.array(value)\n",
      "C:\\Users\\71774\\AppData\\Roaming\\Python\\Python37\\site-packages\\pandas\\core\\internals\\blocks.py:902: VisibleDeprecationWarning: Creating an ndarray from ragged nested sequences (which is a list-or-tuple of lists-or-tuples-or ndarrays with different lengths or shapes) is deprecated. If you meant to do this, you must specify 'dtype=object' when creating the ndarray.\n",
      "  arr_value = np.array(value)\n",
      "C:\\Users\\71774\\AppData\\Roaming\\Python\\Python37\\site-packages\\pandas\\core\\internals\\blocks.py:902: VisibleDeprecationWarning: Creating an ndarray from ragged nested sequences (which is a list-or-tuple of lists-or-tuples-or ndarrays with different lengths or shapes) is deprecated. If you meant to do this, you must specify 'dtype=object' when creating the ndarray.\n",
      "  arr_value = np.array(value)\n",
      "C:\\Users\\71774\\AppData\\Roaming\\Python\\Python37\\site-packages\\pandas\\core\\internals\\blocks.py:902: VisibleDeprecationWarning: Creating an ndarray from ragged nested sequences (which is a list-or-tuple of lists-or-tuples-or ndarrays with different lengths or shapes) is deprecated. If you meant to do this, you must specify 'dtype=object' when creating the ndarray.\n",
      "  arr_value = np.array(value)\n",
      "C:\\Users\\71774\\AppData\\Roaming\\Python\\Python37\\site-packages\\pandas\\core\\internals\\blocks.py:902: VisibleDeprecationWarning: Creating an ndarray from ragged nested sequences (which is a list-or-tuple of lists-or-tuples-or ndarrays with different lengths or shapes) is deprecated. If you meant to do this, you must specify 'dtype=object' when creating the ndarray.\n",
      "  arr_value = np.array(value)\n",
      "C:\\Users\\71774\\AppData\\Roaming\\Python\\Python37\\site-packages\\pandas\\core\\internals\\blocks.py:902: VisibleDeprecationWarning: Creating an ndarray from ragged nested sequences (which is a list-or-tuple of lists-or-tuples-or ndarrays with different lengths or shapes) is deprecated. If you meant to do this, you must specify 'dtype=object' when creating the ndarray.\n",
      "  arr_value = np.array(value)\n"
     ]
    }
   ],
   "source": [
    "results = pd.DataFrame(index=base_learners.keys(), columns=['roc', 'acc', 'recall', 'cm', 'sensitivity', 'specificity'], dtype='object')\n",
    "for k in base_learners.keys():\n",
    "    acc = accuracy_score(cls_data_voting['severity'], prob[k] > thres)\n",
    "    recall = recall_score(cls_data_voting['severity'], prob[k] > thres)\n",
    "    cm = confusion_matrix(cls_data_voting['severity'], prob[k] > thres)\n",
    "    roc = roc_auc_score(cls_data_voting['severity'], prob[k])\n",
    "    sensitivity, specificity = sensitivity_specificity(cm)\n",
    "    results.loc[k, :] = [roc, acc, recall, cm, sensitivity, specificity]"
   ]
  },
  {
   "cell_type": "code",
   "execution_count": 33,
   "metadata": {},
   "outputs": [],
   "source": [
    "results.to_csv('./csv/cross_validation_trainSet/filled_{}_binary.csv'.format(method))"
   ]
  },
  {
   "cell_type": "code",
   "execution_count": 34,
   "metadata": {},
   "outputs": [
    {
     "data": {
      "text/plain": [
       "[Text(0.5, 0, 'Classifcation Methods'),\n",
       " Text(0, 0.5, 'Accuracy'),\n",
       " Text(0.5, 1.0, '5-Fold Cross Validation Accuracy')]"
      ]
     },
     "execution_count": 34,
     "metadata": {},
     "output_type": "execute_result"
    },
    {
     "data": {
      "image/png": "[encoded data removed]",
      "text/plain": [
       "<Figure size 1152x648 with 1 Axes>"
      ]
     },
     "metadata": {
      "needs_background": "light"
     },
     "output_type": "display_data"
    }
   ],
   "source": [
    "plt.subplots(figsize=(16, 9))\n",
    "sns.set(style=\"ticks\")\n",
    "sns.set(font_scale=2.0)\n",
    "colors = sns.color_palette(\"Blues\", len(base_learners.keys()))\n",
    "colors.append((0.8901960784313725, 0.10196078431372549, 0.10980392156862745))\n",
    "dx = sns.boxplot(data=cv_results, palette=colors, boxprops=dict(alpha=1.0),showfliers = False)\n",
    "dx = sns.stripplot(data=cv_results,\n",
    "                   jitter=True,\n",
    "                   color=\".3\",\n",
    "                   dodge=True,\n",
    "                   marker='o', \n",
    "                   alpha=1.0)\n",
    "dx.set(xlabel='Classifcation Methods',ylabel='Accuracy', title='5-Fold Cross Validation Accuracy')"
   ]
  },
  {
   "cell_type": "code",
   "execution_count": 35,
   "metadata": {},
   "outputs": [
    {
     "name": "stdout",
     "output_type": "stream",
     "text": [
      "Generating base learner predictions.\n",
      "svm...knn...naive bayes...mlp...random forest...gradient boost...logistic...adaboost...xgboost...done.\n"
     ]
    }
   ],
   "source": [
    "P_test = predict_base_learners(base_learners, z_score_normalize(np.array(test_dataset[feature])))\n",
    "test_dataset['prediction_clinical'] = P_test.mean(axis=1)\n",
    "test_dataset.to_csv('./csv/prediction_testSet/filled_{}_binary.txt'.format(method))"
   ]
  }
 ],
 "metadata": {
  "kernelspec": {
   "display_name": "Python 3",
   "language": "python",
   "name": "python3"
  },
  "language_info": {
   "codemirror_mode": {
    "name": "ipython",
    "version": 3
   },
   "file_extension": ".py",
   "mimetype": "text/x-python",
   "name": "python",
   "nbconvert_exporter": "python",
   "pygments_lexer": "ipython3",
   "version": "3.7.0"
  }
 },
 "nbformat": 4,
 "nbformat_minor": 2
}
